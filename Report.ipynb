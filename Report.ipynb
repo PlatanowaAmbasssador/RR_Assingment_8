{
  "cells": [
    {
      "cell_type": "raw",
      "metadata": {},
      "source": [
        "---\n",
        "title: \"Loki (TV Series)\"\n",
        "author: \"Kamil Kashif\"\n",
        "toc: true\n",
        "number-sections: true\n",
        "highlight-style: pygments\n",
        "format: \n",
        "  html: \n",
        "    code-fold: true\n",
        "    html-math-method: katex\n",
        "---"
      ],
      "id": "d0ea75e2"
    },
    {
      "cell_type": "markdown",
      "metadata": {},
      "source": [
        "# What is Loki?\n",
        "\n",
        "Loki is an American television series created by Michael Waldron for the streaming service Disney+, based on Marvel Comics featuring the character of the same name. It is the third television series in the Marvel Cinematic Universe (MCU) produced by Marvel Studios, sharing continuity with the films of the franchise. The series takes place after the events of the film Avengers: Endgame (2019), in which an alternate version of Loki created a new timeline. Waldron served as head writer and Kate Herron directed the first season, with Eric Martin and the duo Justin Benson and Aaron Moorhead serving as head writer and leading the directing team for the second season, respectively.\n",
        "\n",
        "\n",
        "# Premiere and Finale \n",
        "\n",
        "Loki premiered on June 9, 2021. Its first season, consisting of six episodes, concluded on July 14 and is part of Phase Four of the MCU. It received positive reviews from critics, especially for the performances. A second season, also consisting of six episodes, ran from October 5 to November 9, 2023, as part of Phase Five. It also received positive reviews, with praise for its conclusion, musical score, and Loki's character arc.\n",
        "\n",
        "# Cast of Loki\n"
      ],
      "id": "c5968bd6"
    },
    {
      "cell_type": "code",
      "metadata": {},
      "source": [
        "import pandas as pd\n",
        "\n",
        "# Define data\n",
        "data = {\n",
        "    \"Actor/Actress\": [\n",
        "        \"Tom Hiddleston\",\n",
        "        \"Gugu Mbatha-Raw\",\n",
        "        ...\n",
        "    ],\n",
        "    \"Character Played\": [\n",
        "        \"Loki\",\n",
        "        \"Ravonna Renslayer\",\n",
        "        ...\n",
        "    ]\n",
        "}\n",
        "\n",
        "# Create DataFrame\n",
        "df = pd.DataFrame(data)\n",
        "\n",
        "# Display DataFrame\n",
        "print(df)"
      ],
      "id": "3b718758",
      "execution_count": null,
      "outputs": []
    }
  ],
  "metadata": {
    "kernelspec": {
      "display_name": "Python 3",
      "language": "python",
      "name": "python3"
    }
  },
  "nbformat": 4,
  "nbformat_minor": 5
}